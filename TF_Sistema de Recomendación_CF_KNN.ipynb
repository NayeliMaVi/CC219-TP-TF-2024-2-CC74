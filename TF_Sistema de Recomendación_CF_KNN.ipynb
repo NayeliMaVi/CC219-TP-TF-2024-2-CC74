{
  "nbformat": 4,
  "nbformat_minor": 0,
  "metadata": {
    "colab": {
      "provenance": []
    },
    "kernelspec": {
      "name": "python3",
      "display_name": "Python 3"
    },
    "language_info": {
      "name": "python"
    }
  },
  "cells": [
    {
      "cell_type": "markdown",
      "source": [
        "Sistema de Recomendación - CF basado en la vecinos"
      ],
      "metadata": {
        "id": "86psjUj0dJAF"
      }
    },
    {
      "cell_type": "code",
      "source": [
        "!pip install scikit-surprise"
      ],
      "metadata": {
        "colab": {
          "base_uri": "https://localhost:8080/"
        },
        "id": "3dGaJn6V7kJ8",
        "outputId": "0d90e0b9-3bcf-4e17-c8ab-37127c3f2790"
      },
      "execution_count": 3,
      "outputs": [
        {
          "output_type": "stream",
          "name": "stdout",
          "text": [
            "Collecting scikit-surprise\n",
            "  Downloading scikit_surprise-1.1.4.tar.gz (154 kB)\n",
            "\u001b[?25l     \u001b[90m━━━━━━━━━━━━━━━━━━━━━━━━━━━━━━━━━━━━━━━━\u001b[0m \u001b[32m0.0/154.4 kB\u001b[0m \u001b[31m?\u001b[0m eta \u001b[36m-:--:--\u001b[0m\r\u001b[2K     \u001b[91m━━━━━━━━━━━━━━━━━━━━━━━━━━━━━━━━━━━━━━━\u001b[0m\u001b[91m╸\u001b[0m \u001b[32m153.6/154.4 kB\u001b[0m \u001b[31m5.5 MB/s\u001b[0m eta \u001b[36m0:00:01\u001b[0m\r\u001b[2K     \u001b[90m━━━━━━━━━━━━━━━━━━━━━━━━━━━━━━━━━━━━━━━━\u001b[0m \u001b[32m154.4/154.4 kB\u001b[0m \u001b[31m3.8 MB/s\u001b[0m eta \u001b[36m0:00:00\u001b[0m\n",
            "\u001b[?25h  Installing build dependencies ... \u001b[?25l\u001b[?25hdone\n",
            "  Getting requirements to build wheel ... \u001b[?25l\u001b[?25hdone\n",
            "  Preparing metadata (pyproject.toml) ... \u001b[?25l\u001b[?25hdone\n",
            "Requirement already satisfied: joblib>=1.2.0 in /usr/local/lib/python3.10/dist-packages (from scikit-surprise) (1.4.2)\n",
            "Requirement already satisfied: numpy>=1.19.5 in /usr/local/lib/python3.10/dist-packages (from scikit-surprise) (1.26.4)\n",
            "Requirement already satisfied: scipy>=1.6.0 in /usr/local/lib/python3.10/dist-packages (from scikit-surprise) (1.13.1)\n",
            "Building wheels for collected packages: scikit-surprise\n",
            "  Building wheel for scikit-surprise (pyproject.toml) ... \u001b[?25l\u001b[?25hdone\n",
            "  Created wheel for scikit-surprise: filename=scikit_surprise-1.1.4-cp310-cp310-linux_x86_64.whl size=2357284 sha256=acc28267d6959a7e0300ff9e77fea50ff53f31d3390dda9873d4bbd43dc2247e\n",
            "  Stored in directory: /root/.cache/pip/wheels/4b/3f/df/6acbf0a40397d9bf3ff97f582cc22fb9ce66adde75bc71fd54\n",
            "Successfully built scikit-surprise\n",
            "Installing collected packages: scikit-surprise\n",
            "Successfully installed scikit-surprise-1.1.4\n"
          ]
        }
      ]
    },
    {
      "cell_type": "code",
      "source": [
        "from surprise import Dataset, Reader\n",
        "from surprise import KNNBasic, KNNWithMeans, KNNWithZScore, KNNBaseline\n",
        "from surprise.model_selection import train_test_split\n",
        "from surprise import accuracy\n",
        "import pandas as pd\n",
        "\n",
        "# Cargamos el csv\n",
        "csv_path = '/content/users-score-anime.csv'\n",
        "csv_data = pd.read_csv(csv_path)\n",
        "\n",
        "# Pasamos los datos del csv al formato de Surprise\n",
        "reader = Reader(rating_scale=(csv_data.scoreByUser.min(), csv_data.scoreByUser.max()))\n",
        "data = Dataset.load_from_df(csv_data[['user_id', 'anime_id', 'scoreByUser']], reader)\n",
        "\n",
        "# Conjunto de entrenamiento y prueba\n",
        "trainset, testset = train_test_split(data, test_size=0.2)\n",
        "\n",
        "# Configuraciones de parámetros\n",
        "models = {\n",
        "    \"KNNBasic\": KNNBasic,\n",
        "    \"KNNWithMeans\": KNNWithMeans,\n",
        "    \"KNNWithZScore\": KNNWithZScore,\n",
        "    \"KNNBaseline\": KNNBaseline,\n",
        "}\n",
        "similarity_measures = [\"cosine\", \"pearson\", \"pearson_baseline\"]\n",
        "user_item_based = [True, False]\n",
        "\n",
        "# Diccionario para almacenar los resultados\n",
        "results = []\n",
        "\n",
        "# Probamos todas las combinaciones\n",
        "for model_name, model_class in models.items():\n",
        "    for sim_measure in similarity_measures:\n",
        "        for user_based in user_item_based:\n",
        "            # Opciones de similitud\n",
        "            sim_options = {\n",
        "                \"name\": sim_measure,\n",
        "                \"user_based\": user_based,\n",
        "            }\n",
        "\n",
        "            # Creación y entrenamiento del modelo\n",
        "            algo = model_class(sim_options=sim_options)\n",
        "            algo.fit(trainset)\n",
        "\n",
        "            # Evaluación del modelo con los datos de prueba\n",
        "            predictions = algo.test(testset)\n",
        "\n",
        "            # Calculo de métricas\n",
        "            rmse = accuracy.rmse(predictions, verbose=False)\n",
        "            mae = accuracy.mae(predictions, verbose=False)\n",
        "\n",
        "            # Guardamos los resultados\n",
        "            results.append({\n",
        "                \"Model\": model_name,\n",
        "                \"Similarity\": sim_measure,\n",
        "                \"User-Based\": user_based,\n",
        "                \"RMSE\": rmse,\n",
        "                \"MAE\": mae,\n",
        "            })\n",
        "\n",
        "# DataFrame para mostrar los resultados\n",
        "results_df = pd.DataFrame(results)\n",
        "sorted_results = results_df.sort_values(by=[\"RMSE\", \"MAE\"], ascending=True)\n",
        "\n",
        "# Los mejores resultados\n",
        "print(\"Resultados ordenados por RMSE y MAE:\")\n",
        "print(sorted_results.head())\n",
        "\n",
        "# La Mejor configuración\n",
        "best_model = sorted_results.iloc[0]\n",
        "print(\"\\nMejor configuración:\")\n",
        "print(best_model)\n"
      ],
      "metadata": {
        "colab": {
          "base_uri": "https://localhost:8080/"
        },
        "id": "ycrkhC9YGkfQ",
        "outputId": "c34d0b77-3940-4ffb-f5bf-1681d4b3e657"
      },
      "execution_count": 10,
      "outputs": [
        {
          "output_type": "stream",
          "name": "stdout",
          "text": [
            "Computing the cosine similarity matrix...\n",
            "Done computing similarity matrix.\n",
            "Computing the cosine similarity matrix...\n",
            "Done computing similarity matrix.\n",
            "Computing the pearson similarity matrix...\n",
            "Done computing similarity matrix.\n",
            "Computing the pearson similarity matrix...\n",
            "Done computing similarity matrix.\n",
            "Estimating biases using als...\n",
            "Computing the pearson_baseline similarity matrix...\n",
            "Done computing similarity matrix.\n",
            "Estimating biases using als...\n",
            "Computing the pearson_baseline similarity matrix...\n",
            "Done computing similarity matrix.\n",
            "Computing the cosine similarity matrix...\n",
            "Done computing similarity matrix.\n",
            "Computing the cosine similarity matrix...\n",
            "Done computing similarity matrix.\n",
            "Computing the pearson similarity matrix...\n",
            "Done computing similarity matrix.\n",
            "Computing the pearson similarity matrix...\n",
            "Done computing similarity matrix.\n",
            "Estimating biases using als...\n",
            "Computing the pearson_baseline similarity matrix...\n",
            "Done computing similarity matrix.\n",
            "Estimating biases using als...\n",
            "Computing the pearson_baseline similarity matrix...\n",
            "Done computing similarity matrix.\n",
            "Computing the cosine similarity matrix...\n",
            "Done computing similarity matrix.\n",
            "Computing the cosine similarity matrix...\n",
            "Done computing similarity matrix.\n",
            "Computing the pearson similarity matrix...\n",
            "Done computing similarity matrix.\n",
            "Computing the pearson similarity matrix...\n",
            "Done computing similarity matrix.\n",
            "Estimating biases using als...\n",
            "Computing the pearson_baseline similarity matrix...\n",
            "Done computing similarity matrix.\n",
            "Estimating biases using als...\n",
            "Computing the pearson_baseline similarity matrix...\n",
            "Done computing similarity matrix.\n",
            "Estimating biases using als...\n",
            "Computing the cosine similarity matrix...\n",
            "Done computing similarity matrix.\n",
            "Estimating biases using als...\n",
            "Computing the cosine similarity matrix...\n",
            "Done computing similarity matrix.\n",
            "Estimating biases using als...\n",
            "Computing the pearson similarity matrix...\n",
            "Done computing similarity matrix.\n",
            "Estimating biases using als...\n",
            "Computing the pearson similarity matrix...\n",
            "Done computing similarity matrix.\n",
            "Estimating biases using als...\n",
            "Computing the pearson_baseline similarity matrix...\n",
            "Done computing similarity matrix.\n",
            "Estimating biases using als...\n",
            "Computing the pearson_baseline similarity matrix...\n",
            "Done computing similarity matrix.\n",
            "Resultados ordenados por RMSE y MAE:\n",
            "            Model Similarity  User-Based      RMSE       MAE\n",
            "7    KNNWithMeans     cosine       False  1.371037  1.026402\n",
            "14  KNNWithZScore    pearson        True  1.372361  1.025221\n",
            "9    KNNWithMeans    pearson       False  1.373303  1.025806\n",
            "15  KNNWithZScore    pearson       False  1.374403  1.025826\n",
            "6    KNNWithMeans     cosine        True  1.376964  1.038507\n",
            "\n",
            "Mejor configuración:\n",
            "Model         KNNWithMeans\n",
            "Similarity          cosine\n",
            "User-Based           False\n",
            "RMSE              1.371037\n",
            "MAE               1.026402\n",
            "Name: 7, dtype: object\n"
          ]
        }
      ]
    },
    {
      "cell_type": "code",
      "source": [
        "from surprise import KNNWithMeans\n",
        "\n",
        "# Declaramos el modelo ganador\n",
        "best_model_sim_options = {\n",
        "    \"name\": \"cosine\",  # Similaridad basada en coseno\n",
        "    \"user_based\": False,  # Similaridad basada en ítems\n",
        "}\n",
        "best_model = KNNWithMeans(sim_options=best_model_sim_options)\n",
        "\n",
        "# Entrenamos el modelo ganador\n",
        "best_model.fit(trainset)\n",
        "\n",
        "# Obtenemos predicciones en el conjunto de prueba\n",
        "predictions = best_model.test(testset)\n",
        "\n",
        "# Evaluación de métricas\n",
        "from sklearn.metrics import mean_squared_error, mean_absolute_error, r2_score, precision_recall_fscore_support\n",
        "import numpy as np\n",
        "\n",
        "# Definir umbral para recomendaciones relevantes\n",
        "threshold = 7.0\n",
        "\n",
        "# Preparar listas para métricas\n",
        "y_true = []\n",
        "y_pred = []\n",
        "true_ratings = []\n",
        "predicted_ratings = []\n",
        "\n",
        "for pred in predictions:\n",
        "    true_ratings.append(pred.r_ui)\n",
        "    predicted_ratings.append(pred.est)\n",
        "\n",
        "    # Etiquetas binarias para precisión, recall y F1\n",
        "    if pred.r_ui >= threshold:\n",
        "        y_true.append(1)\n",
        "    else:\n",
        "        y_true.append(0)\n",
        "\n",
        "    if pred.est >= threshold:\n",
        "        y_pred.append(1)\n",
        "    else:\n",
        "        y_pred.append(0)\n",
        "\n",
        "# Calculamos RMSE, MAE, MSE, R2\n",
        "rmse = np.sqrt(mean_squared_error(true_ratings, predicted_ratings))\n",
        "mae = mean_absolute_error(true_ratings, predicted_ratings)\n",
        "mse = mean_squared_error(true_ratings, predicted_ratings)\n",
        "r2 = r2_score(true_ratings, predicted_ratings)\n",
        "\n",
        "# Calculamos precisión, recall y F1\n",
        "precision, recall, f1, _ = precision_recall_fscore_support(y_true, y_pred, average=\"binary\")\n",
        "\n",
        "# Resultados obtenidos del modelo\n",
        "print(\"Evaluación del Modelo Ganador:\")\n",
        "print(f\"Modelo: KNNWithMeans\")\n",
        "print(f\"Similitud: Cosine\")\n",
        "print(f\"Basado en: Ítems\")\n",
        "print(f\"RMSE: {rmse:.4f}\")\n",
        "print(f\"MSE: {mse:.4f}\")\n",
        "print(f\"MAE: {mae:.4f}\")\n",
        "print(f\"R²: {r2:.4f}\")\n",
        "print(f\"Precisión: {precision:.4f}\")\n",
        "print(f\"Recall: {recall:.4f}\")\n",
        "print(f\"F1-Score: {f1:.4f}\")"
      ],
      "metadata": {
        "colab": {
          "base_uri": "https://localhost:8080/"
        },
        "id": "tmzOuiTRKxvD",
        "outputId": "1615a0d0-40f8-46ad-a23a-7977594d6866"
      },
      "execution_count": 14,
      "outputs": [
        {
          "output_type": "stream",
          "name": "stdout",
          "text": [
            "Computing the cosine similarity matrix...\n",
            "Done computing similarity matrix.\n",
            "Evaluación del Modelo Ganador:\n",
            "Modelo: KNNWithMeans\n",
            "Similitud: Cosine\n",
            "Basado en: Ítems\n",
            "RMSE: 1.3710\n",
            "MSE: 1.8797\n",
            "MAE: 1.0264\n",
            "R²: 0.2945\n",
            "Precisión: 0.8734\n",
            "Recall: 0.8022\n",
            "F1-Score: 0.8363\n"
          ]
        }
      ]
    },
    {
      "cell_type": "code",
      "source": [
        "# Algunas predicciones de ejemplo\n",
        "print(\"Predicciones de ejemplo para KNNWithMeans con pearson:\")\n",
        "for pred in predictions[:5]:\n",
        "    print(pred)\n"
      ],
      "metadata": {
        "colab": {
          "base_uri": "https://localhost:8080/"
        },
        "id": "2xrB5W2yKaPp",
        "outputId": "8de346cd-3ab9-4621-db95-2f3faeda344b"
      },
      "execution_count": 17,
      "outputs": [
        {
          "output_type": "stream",
          "name": "stdout",
          "text": [
            "Predicciones de ejemplo para KNNWithMeans con pearson:\n",
            "user: 1952       item: 517.0      r_ui = 7.00   est = 8.20   {'actual_k': 39, 'was_impossible': False}\n",
            "user: 6919       item: 1735.0     r_ui = 6.00   est = 6.67   {'actual_k': 40, 'was_impossible': False}\n",
            "user: 6132       item: 10500.0    r_ui = 7.00   est = 7.02   {'actual_k': 40, 'was_impossible': False}\n",
            "user: 6520       item: 339.0      r_ui = 5.00   est = 8.80   {'actual_k': 12, 'was_impossible': False}\n",
            "user: 6111       item: 25649.0    r_ui = 7.00   est = 6.82   {'actual_k': 40, 'was_impossible': False}\n"
          ]
        }
      ]
    }
  ]
}