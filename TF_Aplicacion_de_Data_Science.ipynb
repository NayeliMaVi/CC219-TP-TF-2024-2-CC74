{
  "nbformat": 4,
  "nbformat_minor": 0,
  "metadata": {
    "colab": {
      "provenance": []
    },
    "kernelspec": {
      "name": "python3",
      "display_name": "Python 3"
    },
    "language_info": {
      "name": "python"
    }
  },
  "cells": [
    {
      "cell_type": "markdown",
      "source": [
        "##CF con deep learning"
      ],
      "metadata": {
        "id": "KKbZ9D9n-hhx"
      }
    },
    {
      "cell_type": "markdown",
      "source": [
        "Predición del score para un usuario"
      ],
      "metadata": {
        "id": "kwlZUun4_GDX"
      }
    },
    {
      "cell_type": "code",
      "execution_count": 26,
      "metadata": {
        "id": "x6i9JT3H31Rh"
      },
      "outputs": [],
      "source": [
        "import pandas as pd\n",
        "import numpy as np\n",
        "from sklearn.model_selection import train_test_split\n",
        "import tensorflow as tf\n",
        "import tensorflow as tf\n",
        "from tensorflow.keras import layers, models\n"
      ]
    },
    {
      "cell_type": "code",
      "source": [
        "df = pd.read_csv('/content/DataAnimeFinaLTF.csv')"
      ],
      "metadata": {
        "id": "Y-kwCsuz3_w_"
      },
      "execution_count": 2,
      "outputs": []
    },
    {
      "cell_type": "code",
      "source": [
        "df.head()"
      ],
      "metadata": {
        "colab": {
          "base_uri": "https://localhost:8080/",
          "height": 377
        },
        "id": "nQirnYe13_1s",
        "outputId": "929d9169-8d54-48fe-f463-a63c2a770ee7"
      },
      "execution_count": 3,
      "outputs": [
        {
          "output_type": "execute_result",
          "data": {
            "text/plain": [
              "   Unnamed: 0                   Anime Title  scoreByUser  Action  Adventure  \\\n",
              "0    23072147          High School DxD Hero            6       1          0   \n",
              "1      876736                      Steamboy           10       1          1   \n",
              "2     4534530                   Shinreigari            8       0          0   \n",
              "3    24041367                  Re:␣Hamatora            8       1          0   \n",
              "4     1951700  Magi: The Labyrinth of Magic            8       1          1   \n",
              "\n",
              "   Avant Garde  Award Winning  Boys Love  Comedy  Drama  ...  Supernatural  \\\n",
              "0            0              0          0       1      0  ...             0   \n",
              "1            0              0          0       0      1  ...             0   \n",
              "2            0              0          0       0      0  ...             1   \n",
              "3            0              0          0       0      0  ...             1   \n",
              "4            0              0          0       0      0  ...             0   \n",
              "\n",
              "   Suspense  Rating_G - All Ages  Rating_PG - Children  \\\n",
              "0         0                    0                     0   \n",
              "1         0                    0                     0   \n",
              "2         1                    0                     0   \n",
              "3         0                    0                     0   \n",
              "4         0                    0                     0   \n",
              "\n",
              "   Rating_PG-13 - Teens 13 or older  Rating_R - 17+ (violence & profanity)  \\\n",
              "0                                 0                                      0   \n",
              "1                                 1                                      0   \n",
              "2                                 1                                      0   \n",
              "3                                 0                                      1   \n",
              "4                                 1                                      0   \n",
              "\n",
              "   Rating_R+ - Mild Nudity  Rating_Rx - Hentai  new_user_id  new_anime_id  \n",
              "0                        1                   0            0             0  \n",
              "1                        0                   0            1             1  \n",
              "2                        0                   0            2             2  \n",
              "3                        0                   0            3             3  \n",
              "4                        0                   0            4             4  \n",
              "\n",
              "[5 rows x 32 columns]"
            ],
            "text/html": [
              "\n",
              "  <div id=\"df-97593048-b726-42cc-9201-e14f9d6a0436\" class=\"colab-df-container\">\n",
              "    <div>\n",
              "<style scoped>\n",
              "    .dataframe tbody tr th:only-of-type {\n",
              "        vertical-align: middle;\n",
              "    }\n",
              "\n",
              "    .dataframe tbody tr th {\n",
              "        vertical-align: top;\n",
              "    }\n",
              "\n",
              "    .dataframe thead th {\n",
              "        text-align: right;\n",
              "    }\n",
              "</style>\n",
              "<table border=\"1\" class=\"dataframe\">\n",
              "  <thead>\n",
              "    <tr style=\"text-align: right;\">\n",
              "      <th></th>\n",
              "      <th>Unnamed: 0</th>\n",
              "      <th>Anime Title</th>\n",
              "      <th>scoreByUser</th>\n",
              "      <th>Action</th>\n",
              "      <th>Adventure</th>\n",
              "      <th>Avant Garde</th>\n",
              "      <th>Award Winning</th>\n",
              "      <th>Boys Love</th>\n",
              "      <th>Comedy</th>\n",
              "      <th>Drama</th>\n",
              "      <th>...</th>\n",
              "      <th>Supernatural</th>\n",
              "      <th>Suspense</th>\n",
              "      <th>Rating_G - All Ages</th>\n",
              "      <th>Rating_PG - Children</th>\n",
              "      <th>Rating_PG-13 - Teens 13 or older</th>\n",
              "      <th>Rating_R - 17+ (violence &amp; profanity)</th>\n",
              "      <th>Rating_R+ - Mild Nudity</th>\n",
              "      <th>Rating_Rx - Hentai</th>\n",
              "      <th>new_user_id</th>\n",
              "      <th>new_anime_id</th>\n",
              "    </tr>\n",
              "  </thead>\n",
              "  <tbody>\n",
              "    <tr>\n",
              "      <th>0</th>\n",
              "      <td>23072147</td>\n",
              "      <td>High School DxD Hero</td>\n",
              "      <td>6</td>\n",
              "      <td>1</td>\n",
              "      <td>0</td>\n",
              "      <td>0</td>\n",
              "      <td>0</td>\n",
              "      <td>0</td>\n",
              "      <td>1</td>\n",
              "      <td>0</td>\n",
              "      <td>...</td>\n",
              "      <td>0</td>\n",
              "      <td>0</td>\n",
              "      <td>0</td>\n",
              "      <td>0</td>\n",
              "      <td>0</td>\n",
              "      <td>0</td>\n",
              "      <td>1</td>\n",
              "      <td>0</td>\n",
              "      <td>0</td>\n",
              "      <td>0</td>\n",
              "    </tr>\n",
              "    <tr>\n",
              "      <th>1</th>\n",
              "      <td>876736</td>\n",
              "      <td>Steamboy</td>\n",
              "      <td>10</td>\n",
              "      <td>1</td>\n",
              "      <td>1</td>\n",
              "      <td>0</td>\n",
              "      <td>0</td>\n",
              "      <td>0</td>\n",
              "      <td>0</td>\n",
              "      <td>1</td>\n",
              "      <td>...</td>\n",
              "      <td>0</td>\n",
              "      <td>0</td>\n",
              "      <td>0</td>\n",
              "      <td>0</td>\n",
              "      <td>1</td>\n",
              "      <td>0</td>\n",
              "      <td>0</td>\n",
              "      <td>0</td>\n",
              "      <td>1</td>\n",
              "      <td>1</td>\n",
              "    </tr>\n",
              "    <tr>\n",
              "      <th>2</th>\n",
              "      <td>4534530</td>\n",
              "      <td>Shinreigari</td>\n",
              "      <td>8</td>\n",
              "      <td>0</td>\n",
              "      <td>0</td>\n",
              "      <td>0</td>\n",
              "      <td>0</td>\n",
              "      <td>0</td>\n",
              "      <td>0</td>\n",
              "      <td>0</td>\n",
              "      <td>...</td>\n",
              "      <td>1</td>\n",
              "      <td>1</td>\n",
              "      <td>0</td>\n",
              "      <td>0</td>\n",
              "      <td>1</td>\n",
              "      <td>0</td>\n",
              "      <td>0</td>\n",
              "      <td>0</td>\n",
              "      <td>2</td>\n",
              "      <td>2</td>\n",
              "    </tr>\n",
              "    <tr>\n",
              "      <th>3</th>\n",
              "      <td>24041367</td>\n",
              "      <td>Re:␣Hamatora</td>\n",
              "      <td>8</td>\n",
              "      <td>1</td>\n",
              "      <td>0</td>\n",
              "      <td>0</td>\n",
              "      <td>0</td>\n",
              "      <td>0</td>\n",
              "      <td>0</td>\n",
              "      <td>0</td>\n",
              "      <td>...</td>\n",
              "      <td>1</td>\n",
              "      <td>0</td>\n",
              "      <td>0</td>\n",
              "      <td>0</td>\n",
              "      <td>0</td>\n",
              "      <td>1</td>\n",
              "      <td>0</td>\n",
              "      <td>0</td>\n",
              "      <td>3</td>\n",
              "      <td>3</td>\n",
              "    </tr>\n",
              "    <tr>\n",
              "      <th>4</th>\n",
              "      <td>1951700</td>\n",
              "      <td>Magi: The Labyrinth of Magic</td>\n",
              "      <td>8</td>\n",
              "      <td>1</td>\n",
              "      <td>1</td>\n",
              "      <td>0</td>\n",
              "      <td>0</td>\n",
              "      <td>0</td>\n",
              "      <td>0</td>\n",
              "      <td>0</td>\n",
              "      <td>...</td>\n",
              "      <td>0</td>\n",
              "      <td>0</td>\n",
              "      <td>0</td>\n",
              "      <td>0</td>\n",
              "      <td>1</td>\n",
              "      <td>0</td>\n",
              "      <td>0</td>\n",
              "      <td>0</td>\n",
              "      <td>4</td>\n",
              "      <td>4</td>\n",
              "    </tr>\n",
              "  </tbody>\n",
              "</table>\n",
              "<p>5 rows × 32 columns</p>\n",
              "</div>\n",
              "    <div class=\"colab-df-buttons\">\n",
              "\n",
              "  <div class=\"colab-df-container\">\n",
              "    <button class=\"colab-df-convert\" onclick=\"convertToInteractive('df-97593048-b726-42cc-9201-e14f9d6a0436')\"\n",
              "            title=\"Convert this dataframe to an interactive table.\"\n",
              "            style=\"display:none;\">\n",
              "\n",
              "  <svg xmlns=\"http://www.w3.org/2000/svg\" height=\"24px\" viewBox=\"0 -960 960 960\">\n",
              "    <path d=\"M120-120v-720h720v720H120Zm60-500h600v-160H180v160Zm220 220h160v-160H400v160Zm0 220h160v-160H400v160ZM180-400h160v-160H180v160Zm440 0h160v-160H620v160ZM180-180h160v-160H180v160Zm440 0h160v-160H620v160Z\"/>\n",
              "  </svg>\n",
              "    </button>\n",
              "\n",
              "  <style>\n",
              "    .colab-df-container {\n",
              "      display:flex;\n",
              "      gap: 12px;\n",
              "    }\n",
              "\n",
              "    .colab-df-convert {\n",
              "      background-color: #E8F0FE;\n",
              "      border: none;\n",
              "      border-radius: 50%;\n",
              "      cursor: pointer;\n",
              "      display: none;\n",
              "      fill: #1967D2;\n",
              "      height: 32px;\n",
              "      padding: 0 0 0 0;\n",
              "      width: 32px;\n",
              "    }\n",
              "\n",
              "    .colab-df-convert:hover {\n",
              "      background-color: #E2EBFA;\n",
              "      box-shadow: 0px 1px 2px rgba(60, 64, 67, 0.3), 0px 1px 3px 1px rgba(60, 64, 67, 0.15);\n",
              "      fill: #174EA6;\n",
              "    }\n",
              "\n",
              "    .colab-df-buttons div {\n",
              "      margin-bottom: 4px;\n",
              "    }\n",
              "\n",
              "    [theme=dark] .colab-df-convert {\n",
              "      background-color: #3B4455;\n",
              "      fill: #D2E3FC;\n",
              "    }\n",
              "\n",
              "    [theme=dark] .colab-df-convert:hover {\n",
              "      background-color: #434B5C;\n",
              "      box-shadow: 0px 1px 3px 1px rgba(0, 0, 0, 0.15);\n",
              "      filter: drop-shadow(0px 1px 2px rgba(0, 0, 0, 0.3));\n",
              "      fill: #FFFFFF;\n",
              "    }\n",
              "  </style>\n",
              "\n",
              "    <script>\n",
              "      const buttonEl =\n",
              "        document.querySelector('#df-97593048-b726-42cc-9201-e14f9d6a0436 button.colab-df-convert');\n",
              "      buttonEl.style.display =\n",
              "        google.colab.kernel.accessAllowed ? 'block' : 'none';\n",
              "\n",
              "      async function convertToInteractive(key) {\n",
              "        const element = document.querySelector('#df-97593048-b726-42cc-9201-e14f9d6a0436');\n",
              "        const dataTable =\n",
              "          await google.colab.kernel.invokeFunction('convertToInteractive',\n",
              "                                                    [key], {});\n",
              "        if (!dataTable) return;\n",
              "\n",
              "        const docLinkHtml = 'Like what you see? Visit the ' +\n",
              "          '<a target=\"_blank\" href=https://colab.research.google.com/notebooks/data_table.ipynb>data table notebook</a>'\n",
              "          + ' to learn more about interactive tables.';\n",
              "        element.innerHTML = '';\n",
              "        dataTable['output_type'] = 'display_data';\n",
              "        await google.colab.output.renderOutput(dataTable, element);\n",
              "        const docLink = document.createElement('div');\n",
              "        docLink.innerHTML = docLinkHtml;\n",
              "        element.appendChild(docLink);\n",
              "      }\n",
              "    </script>\n",
              "  </div>\n",
              "\n",
              "\n",
              "<div id=\"df-c2f666a6-5aa1-47ca-a936-3f8e0effbadf\">\n",
              "  <button class=\"colab-df-quickchart\" onclick=\"quickchart('df-c2f666a6-5aa1-47ca-a936-3f8e0effbadf')\"\n",
              "            title=\"Suggest charts\"\n",
              "            style=\"display:none;\">\n",
              "\n",
              "<svg xmlns=\"http://www.w3.org/2000/svg\" height=\"24px\"viewBox=\"0 0 24 24\"\n",
              "     width=\"24px\">\n",
              "    <g>\n",
              "        <path d=\"M19 3H5c-1.1 0-2 .9-2 2v14c0 1.1.9 2 2 2h14c1.1 0 2-.9 2-2V5c0-1.1-.9-2-2-2zM9 17H7v-7h2v7zm4 0h-2V7h2v10zm4 0h-2v-4h2v4z\"/>\n",
              "    </g>\n",
              "</svg>\n",
              "  </button>\n",
              "\n",
              "<style>\n",
              "  .colab-df-quickchart {\n",
              "      --bg-color: #E8F0FE;\n",
              "      --fill-color: #1967D2;\n",
              "      --hover-bg-color: #E2EBFA;\n",
              "      --hover-fill-color: #174EA6;\n",
              "      --disabled-fill-color: #AAA;\n",
              "      --disabled-bg-color: #DDD;\n",
              "  }\n",
              "\n",
              "  [theme=dark] .colab-df-quickchart {\n",
              "      --bg-color: #3B4455;\n",
              "      --fill-color: #D2E3FC;\n",
              "      --hover-bg-color: #434B5C;\n",
              "      --hover-fill-color: #FFFFFF;\n",
              "      --disabled-bg-color: #3B4455;\n",
              "      --disabled-fill-color: #666;\n",
              "  }\n",
              "\n",
              "  .colab-df-quickchart {\n",
              "    background-color: var(--bg-color);\n",
              "    border: none;\n",
              "    border-radius: 50%;\n",
              "    cursor: pointer;\n",
              "    display: none;\n",
              "    fill: var(--fill-color);\n",
              "    height: 32px;\n",
              "    padding: 0;\n",
              "    width: 32px;\n",
              "  }\n",
              "\n",
              "  .colab-df-quickchart:hover {\n",
              "    background-color: var(--hover-bg-color);\n",
              "    box-shadow: 0 1px 2px rgba(60, 64, 67, 0.3), 0 1px 3px 1px rgba(60, 64, 67, 0.15);\n",
              "    fill: var(--button-hover-fill-color);\n",
              "  }\n",
              "\n",
              "  .colab-df-quickchart-complete:disabled,\n",
              "  .colab-df-quickchart-complete:disabled:hover {\n",
              "    background-color: var(--disabled-bg-color);\n",
              "    fill: var(--disabled-fill-color);\n",
              "    box-shadow: none;\n",
              "  }\n",
              "\n",
              "  .colab-df-spinner {\n",
              "    border: 2px solid var(--fill-color);\n",
              "    border-color: transparent;\n",
              "    border-bottom-color: var(--fill-color);\n",
              "    animation:\n",
              "      spin 1s steps(1) infinite;\n",
              "  }\n",
              "\n",
              "  @keyframes spin {\n",
              "    0% {\n",
              "      border-color: transparent;\n",
              "      border-bottom-color: var(--fill-color);\n",
              "      border-left-color: var(--fill-color);\n",
              "    }\n",
              "    20% {\n",
              "      border-color: transparent;\n",
              "      border-left-color: var(--fill-color);\n",
              "      border-top-color: var(--fill-color);\n",
              "    }\n",
              "    30% {\n",
              "      border-color: transparent;\n",
              "      border-left-color: var(--fill-color);\n",
              "      border-top-color: var(--fill-color);\n",
              "      border-right-color: var(--fill-color);\n",
              "    }\n",
              "    40% {\n",
              "      border-color: transparent;\n",
              "      border-right-color: var(--fill-color);\n",
              "      border-top-color: var(--fill-color);\n",
              "    }\n",
              "    60% {\n",
              "      border-color: transparent;\n",
              "      border-right-color: var(--fill-color);\n",
              "    }\n",
              "    80% {\n",
              "      border-color: transparent;\n",
              "      border-right-color: var(--fill-color);\n",
              "      border-bottom-color: var(--fill-color);\n",
              "    }\n",
              "    90% {\n",
              "      border-color: transparent;\n",
              "      border-bottom-color: var(--fill-color);\n",
              "    }\n",
              "  }\n",
              "</style>\n",
              "\n",
              "  <script>\n",
              "    async function quickchart(key) {\n",
              "      const quickchartButtonEl =\n",
              "        document.querySelector('#' + key + ' button');\n",
              "      quickchartButtonEl.disabled = true;  // To prevent multiple clicks.\n",
              "      quickchartButtonEl.classList.add('colab-df-spinner');\n",
              "      try {\n",
              "        const charts = await google.colab.kernel.invokeFunction(\n",
              "            'suggestCharts', [key], {});\n",
              "      } catch (error) {\n",
              "        console.error('Error during call to suggestCharts:', error);\n",
              "      }\n",
              "      quickchartButtonEl.classList.remove('colab-df-spinner');\n",
              "      quickchartButtonEl.classList.add('colab-df-quickchart-complete');\n",
              "    }\n",
              "    (() => {\n",
              "      let quickchartButtonEl =\n",
              "        document.querySelector('#df-c2f666a6-5aa1-47ca-a936-3f8e0effbadf button');\n",
              "      quickchartButtonEl.style.display =\n",
              "        google.colab.kernel.accessAllowed ? 'block' : 'none';\n",
              "    })();\n",
              "  </script>\n",
              "</div>\n",
              "\n",
              "    </div>\n",
              "  </div>\n"
            ],
            "application/vnd.google.colaboratory.intrinsic+json": {
              "type": "dataframe",
              "variable_name": "df"
            }
          },
          "metadata": {},
          "execution_count": 3
        }
      ]
    },
    {
      "cell_type": "code",
      "source": [
        "df.info()"
      ],
      "metadata": {
        "colab": {
          "base_uri": "https://localhost:8080/"
        },
        "id": "3x0rRpgs3_8G",
        "outputId": "544b1aab-77a3-4dca-8f3b-ebbcf809b615"
      },
      "execution_count": 4,
      "outputs": [
        {
          "output_type": "stream",
          "name": "stdout",
          "text": [
            "<class 'pandas.core.frame.DataFrame'>\n",
            "RangeIndex: 100000 entries, 0 to 99999\n",
            "Data columns (total 32 columns):\n",
            " #   Column                                 Non-Null Count   Dtype \n",
            "---  ------                                 --------------   ----- \n",
            " 0   Unnamed: 0                             100000 non-null  int64 \n",
            " 1   Anime Title                            100000 non-null  object\n",
            " 2   scoreByUser                            100000 non-null  int64 \n",
            " 3   Action                                 100000 non-null  int64 \n",
            " 4   Adventure                              100000 non-null  int64 \n",
            " 5   Avant Garde                            100000 non-null  int64 \n",
            " 6   Award Winning                          100000 non-null  int64 \n",
            " 7   Boys Love                              100000 non-null  int64 \n",
            " 8   Comedy                                 100000 non-null  int64 \n",
            " 9   Drama                                  100000 non-null  int64 \n",
            " 10  Ecchi                                  100000 non-null  int64 \n",
            " 11  Erotica                                100000 non-null  int64 \n",
            " 12  Fantasy                                100000 non-null  int64 \n",
            " 13  Girls Love                             100000 non-null  int64 \n",
            " 14  Gourmet                                100000 non-null  int64 \n",
            " 15  Hentai                                 100000 non-null  int64 \n",
            " 16  Horror                                 100000 non-null  int64 \n",
            " 17  Mystery                                100000 non-null  int64 \n",
            " 18  Romance                                100000 non-null  int64 \n",
            " 19  Sci-Fi                                 100000 non-null  int64 \n",
            " 20  Slice of Life                          100000 non-null  int64 \n",
            " 21  Sports                                 100000 non-null  int64 \n",
            " 22  Supernatural                           100000 non-null  int64 \n",
            " 23  Suspense                               100000 non-null  int64 \n",
            " 24  Rating_G - All Ages                    100000 non-null  int64 \n",
            " 25  Rating_PG - Children                   100000 non-null  int64 \n",
            " 26  Rating_PG-13 - Teens 13 or older       100000 non-null  int64 \n",
            " 27  Rating_R - 17+ (violence & profanity)  100000 non-null  int64 \n",
            " 28  Rating_R+ - Mild Nudity                100000 non-null  int64 \n",
            " 29  Rating_Rx - Hentai                     100000 non-null  int64 \n",
            " 30  new_user_id                            100000 non-null  int64 \n",
            " 31  new_anime_id                           100000 non-null  int64 \n",
            "dtypes: int64(31), object(1)\n",
            "memory usage: 24.4+ MB\n"
          ]
        }
      ]
    },
    {
      "cell_type": "code",
      "source": [
        "df.drop(columns=['Unnamed: 0'], inplace=True)"
      ],
      "metadata": {
        "id": "bsHM0TdO4N08"
      },
      "execution_count": 5,
      "outputs": []
    },
    {
      "cell_type": "code",
      "source": [
        "anime_features = df.iloc[:, 3:-2].to_numpy()\n",
        "anime_features"
      ],
      "metadata": {
        "colab": {
          "base_uri": "https://localhost:8080/"
        },
        "id": "GZzOzRQG7fez",
        "outputId": "c0837d84-15d7-4d7c-9669-12182c569762"
      },
      "execution_count": 20,
      "outputs": [
        {
          "output_type": "execute_result",
          "data": {
            "text/plain": [
              "array([[0, 0, 0, ..., 0, 1, 0],\n",
              "       [1, 0, 0, ..., 0, 0, 0],\n",
              "       [0, 0, 0, ..., 0, 0, 0],\n",
              "       ...,\n",
              "       [0, 0, 0, ..., 1, 0, 0],\n",
              "       [1, 0, 1, ..., 1, 0, 0],\n",
              "       [1, 0, 0, ..., 0, 0, 0]])"
            ]
          },
          "metadata": {},
          "execution_count": 20
        }
      ]
    },
    {
      "cell_type": "code",
      "source": [
        "# Extraer new_user_id y new_anime_id (las dos últimas columnas)\n",
        "X = df[[\"new_user_id\", \"new_anime_id\"]]\n",
        "y = df[\"scoreByUser\"]\n"
      ],
      "metadata": {
        "id": "T26EM19A7n81"
      },
      "execution_count": 22,
      "outputs": []
    },
    {
      "cell_type": "code",
      "source": [
        "X_train, X_test, y_train, y_test = train_test_split(X, y, test_size=0.2, random_state=42)\n",
        "\n",
        "# Extraer las IDs para entrenamiento y prueba\n",
        "user_train = X_train[\"new_user_id\"].to_numpy().astype(\"int32\")\n",
        "anime_train = X_train[\"new_anime_id\"].to_numpy().astype(\"int32\")\n",
        "user_test = X_test[\"new_user_id\"].to_numpy().astype(\"int32\")\n",
        "anime_test = X_test[\"new_anime_id\"].to_numpy().astype(\"int32\")\n",
        "\n",
        "# Obtener las características de anime para el entrenamiento y prueba\n",
        "anime_features_train = anime_features[anime_train]\n",
        "anime_features_test = anime_features[anime_test]\n",
        "\n",
        "# Convertir los scores a float para entrenamiento y prueba\n",
        "score_train = y_train.to_numpy().astype(\"float32\")\n",
        "score_test = y_test.to_numpy().astype(\"float32\")\n",
        "\n",
        "# Confirmar las dimensiones\n",
        "print(\"Dimensiones del dataset:\")\n",
        "print(f\"user_train: {user_train.shape}\")\n",
        "print(f\"anime_train: {anime_train.shape}\")\n",
        "print(f\"anime_features_train: {anime_features_train.shape}\")\n",
        "print(f\"score_train: {score_train.shape}\")\n"
      ],
      "metadata": {
        "colab": {
          "base_uri": "https://localhost:8080/"
        },
        "id": "M9s5BQrO7rut",
        "outputId": "7683da2a-aab9-49f4-aa02-9f7d18a45f1c"
      },
      "execution_count": 23,
      "outputs": [
        {
          "output_type": "stream",
          "name": "stdout",
          "text": [
            "Dimensiones del dataset:\n",
            "user_train: (80000,)\n",
            "anime_train: (80000,)\n",
            "anime_features_train: (80000, 26)\n",
            "score_train: (80000,)\n"
          ]
        }
      ]
    },
    {
      "cell_type": "code",
      "source": [
        "def create_model(num_users, num_animes, embedding_dim=32, feature_dim=anime_features.shape[1]):\n",
        "    # Entrada para los IDs de los usuarios\n",
        "    user_input = layers.Input(shape=(1,), name=\"user_input\")\n",
        "\n",
        "    # Entrada para los IDs de los animes\n",
        "    anime_input = layers.Input(shape=(1,), name=\"anime_input\")\n",
        "\n",
        "    # Capa de embedding para los usuarios\n",
        "    user_embedding = layers.Embedding(input_dim=num_users, output_dim=embedding_dim, name=\"user_embedding\")(user_input)\n",
        "    user_embedding = layers.Flatten()(user_embedding)\n",
        "\n",
        "    # Capa de embedding para los animes\n",
        "    anime_embedding = layers.Embedding(input_dim=num_animes, output_dim=embedding_dim, name=\"anime_embedding\")(anime_input)\n",
        "    anime_embedding = layers.Flatten()(anime_embedding)\n",
        "\n",
        "    # Concatenamos las representaciones de los usuarios y los animes\n",
        "    concatenated = layers.Concatenate()([user_embedding, anime_embedding])\n",
        "\n",
        "    # Añadimos una capa densa para procesar la información combinada\n",
        "    dense_layer = layers.Dense(128, activation='relu')(concatenated)\n",
        "\n",
        "    # Añadimos las características del anime (como los géneros) a la red\n",
        "    features_input = layers.Input(shape=(feature_dim,), name=\"features_input\")\n",
        "    merged = layers.Concatenate()([dense_layer, features_input])\n",
        "\n",
        "    # Capa de salida: predecir la calificación (score)\n",
        "    output = layers.Dense(1, activation='linear')(merged)\n",
        "\n",
        "    # Crear el modelo\n",
        "    model = models.Model(inputs=[user_input, anime_input, features_input], outputs=output)\n",
        "\n",
        "    # Compilamos el modelo\n",
        "    model.compile(optimizer='adam', loss='mse', metrics=['mae'])\n",
        "\n",
        "    return model"
      ],
      "metadata": {
        "id": "wcV4pkpL8B8L"
      },
      "execution_count": 24,
      "outputs": []
    },
    {
      "cell_type": "code",
      "source": [
        "num_users = len(X['new_user_id'].unique())\n",
        "num_animes = len(X['new_anime_id'].unique())\n",
        "\n",
        "# Crear el modelo\n",
        "model = create_model(num_users, num_animes, embedding_dim=32, feature_dim=anime_features.shape[1])\n",
        "\n",
        "# Entrenar el modelo\n",
        "model.fit(\n",
        "    [user_train, anime_train, anime_features_train],  # Entradas: IDs de usuarios, IDs de animes, características del anime\n",
        "    score_train,  # Salida: calificación\n",
        "    epochs=10,  # Número de épocas\n",
        "    batch_size=64,  # Tamaño de batch\n",
        "    validation_data=([user_test, anime_test, anime_features_test], score_test)  # Datos de validación\n",
        ")"
      ],
      "metadata": {
        "colab": {
          "base_uri": "https://localhost:8080/"
        },
        "id": "3w1eOqXx7x75",
        "outputId": "9c0033f6-da00-4591-9488-58dc9b8ee92b"
      },
      "execution_count": 27,
      "outputs": [
        {
          "output_type": "stream",
          "name": "stdout",
          "text": [
            "Epoch 1/10\n",
            "\u001b[1m1250/1250\u001b[0m \u001b[32m━━━━━━━━━━━━━━━━━━━━\u001b[0m\u001b[37m\u001b[0m \u001b[1m33s\u001b[0m 24ms/step - loss: 17.3987 - mae: 3.0959 - val_loss: 2.3903 - val_mae: 1.1877\n",
            "Epoch 2/10\n",
            "\u001b[1m1250/1250\u001b[0m \u001b[32m━━━━━━━━━━━━━━━━━━━━\u001b[0m\u001b[37m\u001b[0m \u001b[1m40s\u001b[0m 24ms/step - loss: 1.5755 - mae: 0.9384 - val_loss: 2.4271 - val_mae: 1.2097\n",
            "Epoch 3/10\n",
            "\u001b[1m1250/1250\u001b[0m \u001b[32m━━━━━━━━━━━━━━━━━━━━\u001b[0m\u001b[37m\u001b[0m \u001b[1m30s\u001b[0m 24ms/step - loss: 0.9323 - mae: 0.7045 - val_loss: 2.6190 - val_mae: 1.2522\n",
            "Epoch 4/10\n",
            "\u001b[1m1250/1250\u001b[0m \u001b[32m━━━━━━━━━━━━━━━━━━━━\u001b[0m\u001b[37m\u001b[0m \u001b[1m30s\u001b[0m 24ms/step - loss: 0.7401 - mae: 0.6202 - val_loss: 2.6050 - val_mae: 1.2450\n",
            "Epoch 5/10\n",
            "\u001b[1m1250/1250\u001b[0m \u001b[32m━━━━━━━━━━━━━━━━━━━━\u001b[0m\u001b[37m\u001b[0m \u001b[1m41s\u001b[0m 24ms/step - loss: 0.6349 - mae: 0.5669 - val_loss: 2.7196 - val_mae: 1.2707\n",
            "Epoch 6/10\n",
            "\u001b[1m1250/1250\u001b[0m \u001b[32m━━━━━━━━━━━━━━━━━━━━\u001b[0m\u001b[37m\u001b[0m \u001b[1m41s\u001b[0m 24ms/step - loss: 0.5453 - mae: 0.5233 - val_loss: 2.6946 - val_mae: 1.2659\n",
            "Epoch 7/10\n",
            "\u001b[1m1250/1250\u001b[0m \u001b[32m━━━━━━━━━━━━━━━━━━━━\u001b[0m\u001b[37m\u001b[0m \u001b[1m30s\u001b[0m 24ms/step - loss: 0.4645 - mae: 0.4822 - val_loss: 2.7800 - val_mae: 1.2799\n",
            "Epoch 8/10\n",
            "\u001b[1m1250/1250\u001b[0m \u001b[32m━━━━━━━━━━━━━━━━━━━━\u001b[0m\u001b[37m\u001b[0m \u001b[1m41s\u001b[0m 24ms/step - loss: 0.3997 - mae: 0.4431 - val_loss: 2.8029 - val_mae: 1.2832\n",
            "Epoch 9/10\n",
            "\u001b[1m1250/1250\u001b[0m \u001b[32m━━━━━━━━━━━━━━━━━━━━\u001b[0m\u001b[37m\u001b[0m \u001b[1m40s\u001b[0m 24ms/step - loss: 0.3389 - mae: 0.4068 - val_loss: 2.7847 - val_mae: 1.2796\n",
            "Epoch 10/10\n",
            "\u001b[1m1250/1250\u001b[0m \u001b[32m━━━━━━━━━━━━━━━━━━━━\u001b[0m\u001b[37m\u001b[0m \u001b[1m42s\u001b[0m 25ms/step - loss: 0.2884 - mae: 0.3759 - val_loss: 2.7612 - val_mae: 1.2737\n"
          ]
        },
        {
          "output_type": "execute_result",
          "data": {
            "text/plain": [
              "<keras.src.callbacks.history.History at 0x7a2861a62b60>"
            ]
          },
          "metadata": {},
          "execution_count": 27
        }
      ]
    },
    {
      "cell_type": "code",
      "source": [
        "# Evaluar el modelo en el conjunto de test\n",
        "loss, mae = model.evaluate([user_test, anime_test, anime_features_test], score_test)\n",
        "print(f\"Loss: {loss}, MAE: {mae}\")"
      ],
      "metadata": {
        "colab": {
          "base_uri": "https://localhost:8080/"
        },
        "id": "MkIzgKAe933h",
        "outputId": "12573d8c-1140-4ee4-c9d5-9b47bab8e1e3"
      },
      "execution_count": 28,
      "outputs": [
        {
          "output_type": "stream",
          "name": "stdout",
          "text": [
            "\u001b[1m625/625\u001b[0m \u001b[32m━━━━━━━━━━━━━━━━━━━━\u001b[0m\u001b[37m\u001b[0m \u001b[1m2s\u001b[0m 2ms/step - loss: 2.7346 - mae: 1.2659\n",
            "Loss: 2.761171340942383, MAE: 1.2736656665802002\n"
          ]
        }
      ]
    },
    {
      "cell_type": "code",
      "source": [
        "import numpy as np\n",
        "\n",
        "# Calcular RMSE\n",
        "rmse = np.sqrt(loss)\n",
        "print(f\"RMSE: {rmse}\")"
      ],
      "metadata": {
        "colab": {
          "base_uri": "https://localhost:8080/"
        },
        "id": "f_j5d9h3-F0e",
        "outputId": "40a1ee54-6d5d-47cb-c7d8-e8d2459531ba"
      },
      "execution_count": 30,
      "outputs": [
        {
          "output_type": "stream",
          "name": "stdout",
          "text": [
            "RMSE: 1.661677267384489\n"
          ]
        }
      ]
    },
    {
      "cell_type": "code",
      "source": [
        "from sklearn.metrics import r2_score\n",
        "\n",
        "# Calcular R²\n",
        "r2 = r2_score(score_test, predicted_scores)\n",
        "print(f\"R²: {r2}\")"
      ],
      "metadata": {
        "colab": {
          "base_uri": "https://localhost:8080/"
        },
        "id": "pvSANbTw-H3r",
        "outputId": "c9ed376c-6d07-48f2-be77-29e36cf6fcd4"
      },
      "execution_count": 31,
      "outputs": [
        {
          "output_type": "stream",
          "name": "stdout",
          "text": [
            "R²: 0.008044540882110596\n"
          ]
        }
      ]
    },
    {
      "cell_type": "code",
      "source": [
        "# Hacer predicciones (por ejemplo, para un conjunto de usuarios y animes específicos)\n",
        "predicted_scores = model.predict([user_test, anime_test, anime_features_test])\n",
        "\n",
        "# Mostrar las predicciones\n",
        "print(predicted_scores)"
      ],
      "metadata": {
        "colab": {
          "base_uri": "https://localhost:8080/"
        },
        "id": "bWo7JQUi95w7",
        "outputId": "8a09116b-3715-4021-a40e-34cfaa2506e2"
      },
      "execution_count": 29,
      "outputs": [
        {
          "output_type": "stream",
          "name": "stdout",
          "text": [
            "\u001b[1m625/625\u001b[0m \u001b[32m━━━━━━━━━━━━━━━━━━━━\u001b[0m\u001b[37m\u001b[0m \u001b[1m1s\u001b[0m 2ms/step\n",
            "[[5.7735176]\n",
            " [6.864357 ]\n",
            " [6.444844 ]\n",
            " ...\n",
            " [7.6722426]\n",
            " [8.335224 ]\n",
            " [7.6904616]]\n"
          ]
        }
      ]
    }
  ]
}